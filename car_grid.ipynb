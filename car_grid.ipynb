{
 "cells": [
  {
   "cell_type": "markdown",
   "metadata": {},
   "source": [
    "# Car Simulator\n",
    "First we need car class:"
   ]
  },
  {
   "cell_type": "code",
   "execution_count": 261,
   "metadata": {},
   "outputs": [],
   "source": [
    "class Car:\n",
    "    speed = 0\n",
    "    direction = 0\n",
    "    position = [0]*2    #2x2\n",
    "\n",
    "    def __init__(self, grid=None, speed=0, dir=0, pos1=0, pos2=0):   #pointer to [parent] grid *should* be copied to 'grid' (optional parameter)\n",
    "        self.speed = speed\n",
    "        self.direction = dir\n",
    "        self.position[0] = pos1    #2x2\n",
    "        self.position[1] = pos2\n",
    "        self.parentGrid = grid\n",
    "        #randomly assign position from within Grid\n",
    "        # print(\"Car created.\")\n",
    "        # print(\"Stats regarding car :\" + \"\\n\" + \"- - - - - - - - - -\")\n",
    "        # print(\"Speed: \" + str(self.speed))\n",
    "        # print(\"Direction: \" + str(self.direction))\n",
    "        # print(\"Position: \" + str(self.position[0]) + \" \" + str(self.position[1]) + \"\\n\")\n",
    "\n",
    "    def setPosition(self, i:int, j:int):\n",
    "        self.position[0] = i\n",
    "        self.position[1] = j\n",
    "\n",
    "    def getPosition(self):\n",
    "        arr = [self.position[0], self.position[1]]\n",
    "        return arr\n",
    "    \n",
    "    def getDirection(self):\n",
    "        return self.direction\n",
    "\n",
    "    def getSpeed(self):\n",
    "        return self.speed\n",
    "\n",
    "    def accelerate(self):\n",
    "        #decide what direction the car will move (eight possibilities)\n",
    "        if(self.direction>337.5 or self.direction<22.5):\n",
    "            #EAST\n",
    "            if(self.parentGrid.checkSpace(self.position[0]+1, self.position[1])==1):\n",
    "                self.position[0]+=1\n",
    "        elif(self.direction>22.5 and self.direction<67.5):\n",
    "            #NORTHEAST\n",
    "            if(self.parentGrid.checkSpace(self.position[0]+1, self.position[1]+1)==1):\n",
    "                self.position[0]+=1\n",
    "                self.position[1]+=1\n",
    "        elif(self.direction>67.5 and self.direction<112.5):\n",
    "            #NORTH\n",
    "            if(self.parentGrid.checkSpace(self.position[0], self.position[1]+1)==1):\n",
    "                self.position[1]+=1\n",
    "        elif(self.direction>112.5 and self.direction<157.5):\n",
    "            #NORTHWEST\n",
    "            if(self.parentGrid.checkSpace(self.position[0]-1, self.position[1]+1)==1):\n",
    "                self.position[0]-=1\n",
    "                self.position[1]+=1\n",
    "        elif(self.direction>157.5 and self.direction<202.5):\n",
    "            #WEST\n",
    "            if(self.parentGrid.checkSpace(self.position[0]-1, self.position[1])==1):\n",
    "                self.position[0]-=1\n",
    "        elif(self.direction>202.5 and self.direction<247.5):\n",
    "            #SOUTHWEST\n",
    "            if(self.parentGrid.checkSpace(self.position[0]-1, self.position[1]-1)==1):\n",
    "                self.position[0]-=1\n",
    "                self.position[1]-=1\n",
    "        elif(self.direction>247.5 and self.direction<292.5):\n",
    "            #SOUTH\n",
    "            if(self.parentGrid.checkSpace(self.position[0], self.position[1]-1)==1):\n",
    "                self.position[1]-=1\n",
    "        elif(self.direction>292.5 and self.direction<337.5):\n",
    "            #SOUTHEAST\n",
    "            if(self.parentGrid.checkSpace(self.position[0]+1, self.position[1]-1)==1):\n",
    "                self.position[0]+=1\n",
    "                self.position[1]-=1\n",
    "    def turn(self):\n",
    "        self.direction += random.uniform(0, 360)\n",
    "        if(self.direction>360):\n",
    "            while(self.direction>360):\n",
    "                self.direction-=360\n"
   ]
  },
  {
   "cell_type": "markdown",
   "metadata": {},
   "source": [
    "Now we initialize grid class, which uses cars:"
   ]
  },
  {
   "cell_type": "code",
   "execution_count": 262,
   "metadata": {},
   "outputs": [],
   "source": [
    "import random\n",
    "\n",
    "class Grid:\n",
    "    \n",
    "    def __init__(self, n:int, carCount:int):\n",
    "        #print (\"Grid created.\")\n",
    "        self.__w = n\n",
    "        self.__h = n\n",
    "        self.carArray = [Car()]*carCount\n",
    "        self.noOfCars = carCount\n",
    "        print(\"Grid created.\")\n",
    "        print(\"No: of cars: \" + str(self.noOfCars))\n",
    "        for i in range(0, carCount):\n",
    "            sampleCar = Car(self, round(random.uniform(15, 60)), random.uniform(0, 360), round(random.uniform(1, n)), round(random.uniform(1, n)))\n",
    "            self.carArray[i] = sampleCar\n",
    "            self.carArray[i].setPosition(round(random.uniform(1,n)), round(random.uniform(1,n)))\n",
    "            print(\"Position of car #\" + str(i+1) + \": \" + str(self.carArray[i].getPosition()))\n",
    "        #delete extraneous memory (solve carCount issue?)\n",
    "        '''for i in range(0, 12-carCount):\n",
    "            self.carArray.pop(-1)'''\n",
    "    def getDimension(self):\n",
    "        print(\"The grid is \" + str(self.__w) + \" by \" + str(self.__h) + \".\")\n",
    "    def checkSpace(self, i:int, j:int):\n",
    "        if(i<0 or i>self.__w):\n",
    "            return 0\n",
    "        elif(j<0 or j>self.__h):\n",
    "            return 0\n",
    "        return 1\n",
    "    def startYourEngines(self, n:int):    #move cars n times\n",
    "        for amt in range(0, n):\n",
    "            ticker=0\n",
    "            for car in self.carArray:\n",
    "                for i in range(0, int(car.getSpeed())//15):\n",
    "                    if(self.crashCheck()==1):\n",
    "                        print(\"CRASH!\")\n",
    "                        return -1\n",
    "                    print(\"Car \" + str(ticker+1) + \" is now at position \" + str(car.getPosition()))\n",
    "                    car.accelerate()\n",
    "                    '''if(self.carCount(car.getPosition()[0], car.getPosition()[1])>2):\n",
    "                        print(\"CRASH!\")\n",
    "                        return -1''' #This is where new crash check method will go\n",
    "                    car.turn()\n",
    "                    ticker+=1\n",
    "        return 0\n",
    "    '''def carCount(self, i:int, j:int):\n",
    "        carCount=0\n",
    "        for car in self.carArray:\n",
    "            if(car.getPosition()[0]==i and car.getPosition()[1]==j):\n",
    "                carCount+=1\n",
    "        print(carCount)\n",
    "        return carCount'''\n",
    "    def crashCheck(self):       # it's skipping the first car in carArray... why?\n",
    "        positionSet = set()\n",
    "        for i in range(0, self.noOfCars):\n",
    "            # print(self.carArray[i].getPosition())\n",
    "            positionSet.add(str(self.carArray[i].getPosition()))\n",
    "        # print(positionSet)\n",
    "        if(len(positionSet)<self.noOfCars):\n",
    "            return 1\n",
    "        return 0"
   ]
  },
  {
   "cell_type": "markdown",
   "metadata": {},
   "source": [
    "**Main:**"
   ]
  },
  {
   "cell_type": "code",
   "execution_count": 263,
   "metadata": {},
   "outputs": [
    {
     "name": "stdout",
     "output_type": "stream",
     "text": [
      "Grid created.\n",
      "No: of cars: 2\n",
      "Position of car #1: [8, 8]\n",
      "Position of car #2: [6, 8]\n",
      "The grid is 12 by 12.\n",
      "CRASH!\n"
     ]
    },
    {
     "data": {
      "text/plain": [
       "-1"
      ]
     },
     "execution_count": 263,
     "metadata": {},
     "output_type": "execute_result"
    }
   ],
   "source": [
    "myGrid = Grid(12, 2)\n",
    "myGrid.getDimension()\n",
    "# carOffGrid = Car(myGrid) #parentGrid established within carOffGrid, right?\n",
    "# carOffGrid.accelerate()\n",
    "# print(carOffGrid.getPosition())\n",
    "# carOffGrid.turn()\n",
    "# carOffGrid.accelerate()\n",
    "# print(carOffGrid.getDirection())\n",
    "# print(carOffGrid.getPosition())\n",
    "# carOffGrid.turn()\n",
    "# carOffGrid.accelerate()\n",
    "# print(carOffGrid.getDirection())\n",
    "# print(carOffGrid.getPosition())\n",
    "myGrid.startYourEngines(5)  #five movements of the two cars defined above in the 12x12 grid, will be -1 if a crash occurs"
   ]
  }
 ],
 "metadata": {
  "kernelspec": {
   "display_name": "Python 3",
   "language": "python",
   "name": "python3"
  },
  "language_info": {
   "codemirror_mode": {
    "name": "ipython",
    "version": 3
   },
   "file_extension": ".py",
   "mimetype": "text/x-python",
   "name": "python",
   "nbconvert_exporter": "python",
   "pygments_lexer": "ipython3",
   "version": "3.9.13"
  }
 },
 "nbformat": 4,
 "nbformat_minor": 2
}
