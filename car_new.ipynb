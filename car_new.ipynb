{
 "cells": [
  {
   "cell_type": "code",
   "execution_count": 148,
   "metadata": {},
   "outputs": [],
   "source": [
    "class Car:\n",
    "    speed:int\n",
    "    direction:float\n",
    "    position:list\n",
    "\n",
    "    def __init__(self, speed=15, direction=90, pos1=0, pos2=0):\n",
    "        self.speed=speed\n",
    "        self.direction=direction\n",
    "        self.position = [pos1, pos2]\n",
    "\n",
    "    def accelerate(self, sizeN:int):\n",
    "        #dependent on speed\n",
    "        for i in range(0, self.speed//15):\n",
    "            if(self.direction>337.5 or self.direction<22.5):\n",
    "                #EAST\n",
    "                if(self.position[0]+1<=sizeN):\n",
    "                    self.position[0]+=1\n",
    "            elif(self.direction>22.5 and self.direction<67.5):\n",
    "                #NORTHEAST\n",
    "                if(self.position[0]+1<=sizeN and self.position[1]+1<=sizeN):\n",
    "                    self.position[0]+=1\n",
    "                    self.position[1]+=1\n",
    "            elif(self.direction>67.5 and self.direction<112.5):\n",
    "                #NORTH\n",
    "                if(self.position[1]+1<=sizeN):\n",
    "                    self.position[1]+=1\n",
    "            elif(self.direction>112.5 and self.direction<157.5):\n",
    "                #NORTHWEST\n",
    "                if(self.position[0]-1>0 and self.position[1]+1<=sizeN):\n",
    "                    self.position[0]-=1\n",
    "                    self.position[1]+=1\n",
    "            elif(self.direction>157.5 and self.direction<202.5):\n",
    "                #WEST\n",
    "                if(self.position[0]-1>0):\n",
    "                    self.position[0]-=1\n",
    "            elif(self.direction>202.5 and self.direction<247.5):\n",
    "                #SOUTHWEST\n",
    "                if(self.position[0]-1>0 and self.position[1]-1>0):\n",
    "                    self.position[0]-=1\n",
    "                    self.position[1]-=1\n",
    "            elif(self.direction>247.5 and self.direction<292.5):\n",
    "                #SOUTH\n",
    "                if(self.position[1]-1>0):\n",
    "                    self.position[1]-=1\n",
    "            elif(self.direction>292.5 and self.direction<337.5):\n",
    "                #SOUTHEAST\n",
    "                if(self.position[0]+1<=sizeN and self.position[1]-1>0):\n",
    "                    self.position[0]+=1\n",
    "                    self.position[1]-=1"
   ]
  },
  {
   "cell_type": "code",
   "execution_count": 230,
   "metadata": {},
   "outputs": [
    {
     "name": "stdout",
     "output_type": "stream",
     "text": [
      "Car 1 speed: 27\t Car 1's direction: 150\n",
      "[3, 4]\n",
      "Car 2 speed: 21\t Car 2's direction: 121\n",
      "[4, 5]\n",
      "\n",
      "Car 1's new position is: [2, 5]\n",
      "\n",
      "Car 1's new position is: [2, 5]\n"
     ]
    }
   ],
   "source": [
    "### main\n",
    "\n",
    "import random\n",
    "\n",
    "n=5\n",
    "\n",
    "car1 = Car(round(random.uniform(15, 30)), random.randint(0, 360), round(random.uniform(1, n)), round(random.uniform(1, n)))\n",
    "print(\"Car 1 speed: \" + str(car1.speed) + \"\\t Car 1's direction: \" + str(car1.direction))\n",
    "print(car1.position)\n",
    "\n",
    "car2 = Car(round(random.uniform(15, 30)), random.randint(0, 360), round(random.uniform(1, n)), round(random.uniform(1, n)))\n",
    "print(\"Car 2 speed: \" + str(car2.speed) + \"\\t Car 2's direction: \" + str(car2.direction))\n",
    "print(car2.position)\n",
    "\n",
    "if(car1.position==car2.position):\n",
    "    print(\"Crash!\")\n",
    "else:\n",
    "    car1.accelerate(n)\n",
    "\n",
    "    print(\"\\nCar 1's new position is: \" + str(car1.position))\n",
    "\n",
    "    if(car1.position==car2.position):\n",
    "        print(\"Crash!\")\n",
    "    else:\n",
    "        car1.accelerate(n)\n",
    "\n",
    "        print(\"\\nCar 1's new position is: \" + str(car1.position))\n",
    "\n",
    "        if(car1.position==car2.position):\n",
    "            print(\"Crash!\")"
   ]
  }
 ],
 "metadata": {
  "kernelspec": {
   "display_name": "Python 3",
   "language": "python",
   "name": "python3"
  },
  "language_info": {
   "codemirror_mode": {
    "name": "ipython",
    "version": 3
   },
   "file_extension": ".py",
   "mimetype": "text/x-python",
   "name": "python",
   "nbconvert_exporter": "python",
   "pygments_lexer": "ipython3",
   "version": "3.9.13"
  }
 },
 "nbformat": 4,
 "nbformat_minor": 2
}
